{
 "cells": [
  {
   "cell_type": "code",
   "execution_count": 1,
   "metadata": {},
   "outputs": [],
   "source": [
    "import os\n",
    "from utils.Dataset import  MIRDCRicord1aDataset"
   ]
  },
  {
   "cell_type": "code",
   "execution_count": 2,
   "metadata": {
    "pycharm": {
     "name": "#%%\n"
    },
    "scrolled": true
   },
   "outputs": [],
   "source": [
    "# path to annotations, make sure you download the annotation files file at this link\n",
    "# https://wiki.cancerimagingarchive.net/download/attachments/80969742/MIDRC-RICORD-1a_annotations_labelgroup_all_2020-Dec-8.json.zip?api=v2\n",
    "annotations_json_path =  os.path.abspath(os.path.join(os.pardir, 'MIDRC-RICORD-1a_annotations_labelgroup_all_2020-Dec-8.json'))\n",
    "\n",
    "# path to annotations, make sure you download the annotation files file at this link\n",
    "# https://wiki.cancerimagingarchive.net/download/attachments/80969742/MIDRC-RICORD-1a%20Clinical%20Data%20Jan%2013%202021.xlsx?api=v2\n",
    "clinical_data_path =  os.path.abspath(os.path.join(os.pardir, 'MIDRC-RICORD-1a Clinical Data Jan 13 2021.xlsx'))\n",
    "\n",
    "dataset_path = os.path.abspath(os.path.join(os.pardir, 'data'))\n",
    "\n",
    "# If you are using linux, you can remove '\\\\\\\\?\\\\',\n",
    "# This is for long windows path\n",
    "dataset = MIRDCRicord1aDataset('\\\\\\\\?\\\\' + dataset_path, annotations_json_path)\n",
    "# dataset.load_dataset_by_samples(num_of_samples_allowed=500)\n",
    "\n",
    "# not operational\n",
    "# dataset.load_dataset_by_patients(num_of_patients=1)\n"
   ]
  },
  {
   "cell_type": "code",
   "execution_count": 3,
   "metadata": {
    "pycharm": {
     "name": "#%%\n"
    }
   },
   "outputs": [],
   "source": [
    "dataset.generate_image_training_data()"
   ]
  },
  {
   "cell_type": "code",
   "execution_count": 3,
   "metadata": {
    "pycharm": {
     "name": "#%%\n"
    }
   },
   "outputs": [],
   "source": []
  }
 ],
 "metadata": {
  "kernelspec": {
   "display_name": "Python 3",
   "language": "python",
   "name": "python3"
  },
  "language_info": {
   "codemirror_mode": {
    "name": "ipython",
    "version": 3
   },
   "file_extension": ".py",
   "mimetype": "text/x-python",
   "name": "python",
   "nbconvert_exporter": "python",
   "pygments_lexer": "ipython3",
   "version": "3.8.6"
  }
 },
 "nbformat": 4,
 "nbformat_minor": 1
}